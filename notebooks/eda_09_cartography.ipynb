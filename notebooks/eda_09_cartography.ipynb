{
 "cells": [
  {
   "cell_type": "markdown",
   "id": "77965453",
   "metadata": {},
   "source": [
    "# ------------------- Pré‑requis -------------------\n",
    "\n",
    "```bash\n",
    "pip install geopandas folium\n",
    "```"
   ]
  },
  {
   "cell_type": "markdown",
   "id": "f8cb97ad",
   "metadata": {},
   "source": [
    "# ------------------- Fusionner les indicateurs -------------------"
   ]
  },
  {
   "cell_type": "code",
   "execution_count": 9,
   "id": "f9bc012a",
   "metadata": {},
   "outputs": [
    {
     "name": "stdout",
     "output_type": "stream",
     "text": [
      "Index(['neighbourhood', 'neighbourhood_group', 'geometry', 'median_price',\n",
      "       'avg_occupancy_pct', 'avg_sentiment'],\n",
      "      dtype='object')\n"
     ]
    }
   ],
   "source": [
    "\n",
    "from pathlib import Path\n",
    "import pandas as pd, geopandas as gpd\n",
    "\n",
    "# Répertoire courant = ./notebooks\n",
    "here = Path.cwd()                      # notebooks/\n",
    "root = here.parent                     # racine du projet\n",
    "outputs_dir = here / \"outputs\"         # notebooks/outputs\n",
    "data_dir = root / \"dataset\"            # dataset/\n",
    "\n",
    "# Chargement des CSV déjà agrégés\n",
    "price  = pd.read_csv(outputs_dir / \"median_price_by_neigh.csv\")\n",
    "occ    = pd.read_csv(outputs_dir / \"occupancy_pct_by_neigh.csv\")\n",
    "sent   = pd.read_csv(outputs_dir / \"sentiment_by_neigh.csv\")\n",
    "\n",
    "# Chargement du GeoJSON\n",
    "gdf = gpd.read_file(data_dir / \"neighbourhoods.geojson\")  # ./dataset/neig.geojson\n",
    "\n",
    "gdf = (gdf\n",
    "       .merge(price, on=\"neighbourhood\", how=\"left\")\n",
    "       .merge(occ,   on=\"neighbourhood\", how=\"left\")\n",
    "       .merge(sent,  on=\"neighbourhood\", how=\"left\"))\n",
    "\n",
    "print(gdf.columns)"
   ]
  },
  {
   "cell_type": "markdown",
   "id": "80803093",
   "metadata": {},
   "source": [
    "# ------------------- Fonction helper pour créer une choroplèthe Folium -------------------"
   ]
  },
  {
   "cell_type": "code",
   "execution_count": 5,
   "id": "6ddf0559",
   "metadata": {},
   "outputs": [],
   "source": [
    "import folium\n",
    "\n",
    "def add_choropleth(gdf, column, legend, fmt=\"{:.0f}\"):\n",
    "    m = folium.Map(location=[45.52, -73.57], zoom_start=11,\n",
    "                   tiles=\"CartoDB positron\")\n",
    "    folium.Choropleth(\n",
    "        geo_data=gdf,\n",
    "        data=gdf,\n",
    "        columns=[\"neighbourhood\", column],\n",
    "        key_on=\"feature.properties.neighbourhood\",\n",
    "        fill_color=\"YlOrRd\",\n",
    "        fill_opacity=0.7,\n",
    "        line_opacity=0.2,\n",
    "        legend_name=legend,\n",
    "        nan_fill_color=\"white\"\n",
    "    ).add_to(m)\n",
    "\n",
    "    # Popup quartier + valeur\n",
    "    for _, r in gdf.iterrows():\n",
    "        folium.Popup(f\"{r['neighbourhood']}<br>{legend}: \"\n",
    "                     f\"{fmt.format(r[column])}\").add_to(\n",
    "            folium.GeoJson(r[\"geometry\"],\n",
    "                           style_function=lambda *_: {\"fillOpacity\": 0})\n",
    "        )\n",
    "    return m"
   ]
  },
  {
   "cell_type": "markdown",
   "id": "34ac72c8",
   "metadata": {},
   "source": [
    "# ------------------- Générer les 3 cartes -------------------"
   ]
  },
  {
   "cell_type": "code",
   "execution_count": 11,
   "id": "5235542f",
   "metadata": {},
   "outputs": [],
   "source": [
    "map_price = add_choropleth(\n",
    "    gdf, \"median_price\", \"Prix médian (CAD)\", \"{:.0f}$\"\n",
    ")\n",
    "map_occ = add_choropleth(\n",
    "    gdf, \"avg_occupancy_pct\", \"Taux d'occupation %\", \"{:.1%}\"\n",
    ")\n",
    "map_sent = add_choropleth(\n",
    "    gdf, \"avg_sentiment\", \"Sentiment moyen\", \"{:.2f}\"\n",
    ")\n",
    "\n",
    "# Sauvegarde HTML\n",
    "outputs_dir.mkdir(exist_ok=True)\n",
    "map_price.save(outputs_dir / \"map_price.html\")\n",
    "map_occ.save(outputs_dir / \"map_occupancy.html\")\n",
    "map_sent.save(outputs_dir / \"map_sentiment.html\")"
   ]
  },
  {
   "cell_type": "markdown",
   "id": "1c28408c",
   "metadata": {},
   "source": [
    "# ------------------- Observations Markdown -------------------"
   ]
  },
  {
   "cell_type": "code",
   "execution_count": 16,
   "id": "e8704686",
   "metadata": {},
   "outputs": [
    {
     "data": {
      "text/markdown": [
       "\n",
       "### Points saillants – Cartes\n",
       "\n",
       "- **Quartier le plus cher** : *L'Île-Bizard-Sainte-Geneviève* (médiane 250$).  \n",
       "- **Quartier le plus occupé** : *Kirkland* (78.0%).  \n",
       "- **Quartier au meilleur sentiment** : *Kirkland* (score 0.97).  \n"
      ],
      "text/plain": [
       "<IPython.core.display.Markdown object>"
      ]
     },
     "execution_count": 16,
     "metadata": {},
     "output_type": "execute_result"
    }
   ],
   "source": [
    "from IPython.display import Markdown\n",
    "\n",
    "best_price = gdf.sort_values(\"median_price\", ascending=False\n",
    "                             ).iloc[0][[\"neighbourhood\", \"median_price\"]]\n",
    "best_occ   = gdf.sort_values(\"avg_occupancy_pct\", ascending=False\n",
    "                             ).iloc[0][[\"neighbourhood\", \"avg_occupancy_pct\"]]\n",
    "best_sent  = gdf.sort_values(\"avg_sentiment\", ascending=False\n",
    "                             ).iloc[0][[\"neighbourhood\", \"avg_sentiment\"]]\n",
    "\n",
    "Markdown(f\"\"\"\n",
    "### Points saillants – Cartes\n",
    "\n",
    "- **Quartier le plus cher** : *{best_price.neighbourhood}* (médiane {best_price.median_price:.0f}$).  \n",
    "- **Quartier le plus occupé** : *{best_occ.neighbourhood}* ({best_occ.avg_occupancy_pct:.1%}).  \n",
    "- **Quartier au meilleur sentiment** : *{best_sent.neighbourhood}* (score {best_sent.avg_sentiment:.2f}).  \n",
    "\"\"\")"
   ]
  }
 ],
 "metadata": {
  "kernelspec": {
   "display_name": ".venv",
   "language": "python",
   "name": "python3"
  },
  "language_info": {
   "codemirror_mode": {
    "name": "ipython",
    "version": 3
   },
   "file_extension": ".py",
   "mimetype": "text/x-python",
   "name": "python",
   "nbconvert_exporter": "python",
   "pygments_lexer": "ipython3",
   "version": "3.13.2"
  }
 },
 "nbformat": 4,
 "nbformat_minor": 5
}
