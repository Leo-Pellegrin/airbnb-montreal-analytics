{
 "cells": [
  {
   "cell_type": "markdown",
   "id": "86ff5fbc",
   "metadata": {},
   "source": [
    "# ------------------- Charger les tables nécessaires -------------------"
   ]
  },
  {
   "cell_type": "code",
   "execution_count": 2,
   "id": "bc8bab6c",
   "metadata": {},
   "outputs": [],
   "source": [
    "import os, pandas as pd\n",
    "from sqlalchemy import create_engine\n",
    "\n",
    "PGURL  = os.getenv(\"SUPABASE_DB_URL\")\n",
    "engine = create_engine(PGURL)\n",
    "\n",
    "# calendar : on ne garde que listing_id, date, available\n",
    "calendar = pd.read_sql(\n",
    "    \"SELECT listing_id, date, available::int AS avail_int FROM calendar\",\n",
    "    engine\n",
    ")\n",
    "\n",
    "# listings : pour récupérer le quartier\n",
    "listings = pd.read_sql(\n",
    "    \"SELECT id, neighbourhood FROM listings\",\n",
    "    engine\n",
    ")"
   ]
  },
  {
   "cell_type": "markdown",
   "id": "e4868726",
   "metadata": {},
   "source": [
    "# ------------------- Calcul du taux d’occupation par logement -------------------"
   ]
  },
  {
   "cell_type": "code",
   "execution_count": 3,
   "id": "9338a73b",
   "metadata": {},
   "outputs": [],
   "source": [
    "# 1 = disponible, 0 = occupé\n",
    "occ_listing = (1 - calendar.groupby(\"listing_id\")[\"avail_int\"].mean()).reset_index()\n",
    "occ_listing.rename(columns={\"avail_int\": \"occupancy_pct\"}, inplace=True)"
   ]
  },
  {
   "cell_type": "markdown",
   "id": "315b71d9",
   "metadata": {},
   "source": [
    "# ------------------- Agrégation par quartier -------------------"
   ]
  },
  {
   "cell_type": "code",
   "execution_count": 4,
   "id": "3a9f8aea",
   "metadata": {},
   "outputs": [
    {
     "data": {
      "text/html": [
       "<div>\n",
       "<style scoped>\n",
       "    .dataframe tbody tr th:only-of-type {\n",
       "        vertical-align: middle;\n",
       "    }\n",
       "\n",
       "    .dataframe tbody tr th {\n",
       "        vertical-align: top;\n",
       "    }\n",
       "\n",
       "    .dataframe thead th {\n",
       "        text-align: right;\n",
       "    }\n",
       "</style>\n",
       "<table border=\"1\" class=\"dataframe\">\n",
       "  <thead>\n",
       "    <tr style=\"text-align: right;\">\n",
       "      <th></th>\n",
       "      <th>avg_occupancy_pct</th>\n",
       "    </tr>\n",
       "    <tr>\n",
       "      <th>neighbourhood</th>\n",
       "      <th></th>\n",
       "    </tr>\n",
       "  </thead>\n",
       "  <tbody>\n",
       "    <tr>\n",
       "      <th>Kirkland</th>\n",
       "      <td>0.779949</td>\n",
       "    </tr>\n",
       "    <tr>\n",
       "      <th>Dorval</th>\n",
       "      <td>0.553882</td>\n",
       "    </tr>\n",
       "    <tr>\n",
       "      <th>Rivière-des-Prairies-Pointe-aux-Trembles</th>\n",
       "      <td>0.548163</td>\n",
       "    </tr>\n",
       "    <tr>\n",
       "      <th>Beaconsfield</th>\n",
       "      <td>0.526603</td>\n",
       "    </tr>\n",
       "    <tr>\n",
       "      <th>Anjou</th>\n",
       "      <td>0.503462</td>\n",
       "    </tr>\n",
       "  </tbody>\n",
       "</table>\n",
       "</div>"
      ],
      "text/plain": [
       "                                          avg_occupancy_pct\n",
       "neighbourhood                                              \n",
       "Kirkland                                           0.779949\n",
       "Dorval                                             0.553882\n",
       "Rivière-des-Prairies-Pointe-aux-Trembles           0.548163\n",
       "Beaconsfield                                       0.526603\n",
       "Anjou                                              0.503462"
      ]
     },
     "execution_count": 4,
     "metadata": {},
     "output_type": "execute_result"
    }
   ],
   "source": [
    "# merge pour obtenir le quartier\n",
    "occ_listing = occ_listing.merge(listings, left_on=\"listing_id\", right_on=\"id\", how=\"left\")\n",
    "\n",
    "occ_neigh = (occ_listing.groupby(\"neighbourhood\")[\"occupancy_pct\"]\n",
    "             .mean()\n",
    "             .sort_values(ascending=False)\n",
    "             .to_frame(\"avg_occupancy_pct\"))\n",
    "\n",
    "occ_neigh.head()"
   ]
  },
  {
   "cell_type": "markdown",
   "id": "f6878129",
   "metadata": {},
   "source": [
    "# ------------------- Visualiser les 10 quartiers les plus occupés -------------------"
   ]
  },
  {
   "cell_type": "code",
   "execution_count": 5,
   "id": "710a176e",
   "metadata": {},
   "outputs": [
    {
     "data": {
      "text/plain": [
       "<Figure size 700x400 with 0 Axes>"
      ]
     },
     "metadata": {},
     "output_type": "display_data"
    },
    {
     "data": {
      "image/png": "[encoded data removed]",
      "text/plain": [
       "<Figure size 640x480 with 1 Axes>"
      ]
     },
     "metadata": {},
     "output_type": "display_data"
    }
   ],
   "source": [
    "import matplotlib.pyplot as plt\n",
    "\n",
    "top10_occ = occ_neigh.head(10)\n",
    "\n",
    "plt.figure(figsize=(7,4))\n",
    "top10_occ[::-1].plot(kind=\"barh\", legend=False, color=\"coral\")\n",
    "plt.title(\"Top 10 – Taux d’occupation moyen par quartier\")\n",
    "plt.xlabel(\"Occupancy %\")\n",
    "plt.xlim(0, 1)\n",
    "plt.tight_layout()\n",
    "plt.show()"
   ]
  },
  {
   "cell_type": "markdown",
   "id": "12c9b8c2",
   "metadata": {},
   "source": [
    "# ------------------- Export CSV pour la carte ou l’API -------------------"
   ]
  },
  {
   "cell_type": "code",
   "execution_count": 6,
   "id": "78d4bc9e",
   "metadata": {},
   "outputs": [],
   "source": [
    "occ_neigh.reset_index().to_csv(\"outputs/occupancy_pct_by_neigh.csv\", index=False)"
   ]
  },
  {
   "cell_type": "markdown",
   "id": "43aa3554",
   "metadata": {},
   "source": [
    "# ------------------- Observations Markdown -------------------"
   ]
  },
  {
   "cell_type": "code",
   "execution_count": null,
   "id": "b1d205e2",
   "metadata": {},
   "outputs": [],
   "source": [
    "from IPython.display import Markdown\n",
    "\n",
    "quartier_occ = top10_occ.index[0]\n",
    "pct_occ      = top10_occ.iloc[0,0] * 100\n",
    "\n",
    "quartier_low = occ_neigh.tail(1).index[0]\n",
    "pct_low      = occ_neigh.tail(1).iloc[0,0] * 100\n",
    "\n",
    "Markdown(f\"\"\"\n",
    "### Observations – Taux d’occupation\n",
    "\n",
    "- **Quartier le plus occupé** : *{quartier_occ}* (≈ {pct_occ:.1f} %).  \n",
    "- **Quartier le moins occupé** : *{quartier_low}* (≈ {pct_low:.1f} %).  \n",
    "- L’occupation médiane tous quartiers confondus est de `{occ_neigh['avg_occupancy_pct'].median()*100:.1f} %`.  \n",
    "- Les quartiers touristiques centraux affichent logiquement des taux supérieurs à ceux des zones périphériques.\n",
    "\"\"\")"
   ]
  }
 ],
 "metadata": {
  "kernelspec": {
   "display_name": ".venv",
   "language": "python",
   "name": "python3"
  },
  "language_info": {
   "codemirror_mode": {
    "name": "ipython",
    "version": 3
   },
   "file_extension": ".py",
   "mimetype": "text/x-python",
   "name": "python",
   "nbconvert_exporter": "python",
   "pygments_lexer": "ipython3",
   "version": "3.13.2"
  }
 },
 "nbformat": 4,
 "nbformat_minor": 5
}
